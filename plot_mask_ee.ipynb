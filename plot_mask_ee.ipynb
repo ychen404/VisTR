{
 "cells": [
  {
   "cell_type": "code",
   "execution_count": 3,
   "metadata": {},
   "outputs": [],
   "source": [
    "from torchvision import transforms\n",
    "from pathlib import Path\n",
    "import numpy as np\n",
    "import torch\n",
    "import os\n",
    "from PIL import Image\n",
    "\n",
    "transform = transforms.Compose([\n",
    "    transforms.Resize(300),\n",
    "    transforms.ToTensor(),\n",
    "    transforms.Normalize([0.485, 0.456, 0.406], [0.229, 0.224, 0.225])\n",
    "])\n"
   ]
  },
  {
   "cell_type": "code",
   "execution_count": 7,
   "metadata": {},
   "outputs": [],
   "source": [
    "import matplotlib.pyplot as plt\n",
    "%matplotlib inline\n",
    "\n",
    "frame1 = \"/home/users/yitao/Code/IFC/datasets/ytvis_2019_tiny/val/JPEGImages/00f88c4f0a/00025.jpg\"\n",
    "frame2 = \"/home/users/yitao/Code/IFC/datasets/ytvis_2019_tiny/val/JPEGImages/00f88c4f0a/00030.jpg\"\n",
    "frame3 = \"/home/users/yitao/Code/IFC/datasets/ytvis_2019_tiny/val/JPEGImages/00f88c4f0a/00035.jpg\"\n",
    "\n",
    "im = Image.open(frame1)\n",
    "\n",
    "plt.show(im)"
   ]
  },
  {
   "cell_type": "code",
   "execution_count": null,
   "metadata": {},
   "outputs": [],
   "source": [
    "paths = [frame1, frame2, frame3]\n",
    "img_set = []\n",
    "for path in paths:\n",
    "    im = Image.open(path)\n",
    "    img_set.append(transform(im).unsqueeze(0).cuda())"
   ]
  }
 ],
 "metadata": {
  "kernelspec": {
   "display_name": "base",
   "language": "python",
   "name": "python3"
  },
  "language_info": {
   "codemirror_mode": {
    "name": "ipython",
    "version": 3
   },
   "file_extension": ".py",
   "mimetype": "text/x-python",
   "name": "python",
   "nbconvert_exporter": "python",
   "pygments_lexer": "ipython3",
   "version": "3.8.8"
  },
  "orig_nbformat": 4
 },
 "nbformat": 4,
 "nbformat_minor": 2
}
